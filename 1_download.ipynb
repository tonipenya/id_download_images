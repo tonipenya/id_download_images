{
 "cells": [
  {
   "cell_type": "code",
   "execution_count": 1,
   "metadata": {
    "collapsed": true
   },
   "outputs": [],
   "source": [
    "# https://developers.google.com/custom-search/json-api/v1/reference/cse/list\n",
    "# https://blog.keras.io/building-powerful-image-classification-models-using-very-little-data.html"
   ]
  },
  {
   "cell_type": "code",
   "execution_count": 7,
   "metadata": {},
   "outputs": [],
   "source": [
    "%matplotlib inline\n",
    "import requests\n",
    "import numpy as np\n",
    "import pandas as pd\n",
    "from PIL import Image\n",
    "from keras.preprocessing.image import img_to_array\n",
    "from io import BytesIO\n",
    "from IPython.display import clear_output\n",
    "import imagehash\n",
    "from extras import *\n",
    "from keys import GOOGLE_SEARCH_KEY"
   ]
  },
  {
   "cell_type": "markdown",
   "metadata": {},
   "source": [
    "### Image retrieval"
   ]
  },
  {
   "cell_type": "code",
   "execution_count": 8,
   "metadata": {
    "collapsed": true
   },
   "outputs": [],
   "source": [
    "url = 'https://www.googleapis.com/customsearch/v1/'\n",
    "\n",
    "params = {\n",
    "    'q': 'interior design bathroom',\n",
    "    'num': 10,\n",
    "    'start': 1,\n",
    "    'imgSize': 'medium',\n",
    "    'searchType': 'image',\n",
    "    'fileType': 'jpg',\n",
    "    'cx': '011640269314203163488:yn7alr9klxc',\n",
    "    'key': GOOGLE_SEARCH_KEY,\n",
    "    'filter': 1,\n",
    "    'imgType': 'photo',\n",
    "    'imgColorType': 'color'\n",
    "}"
   ]
  },
  {
   "cell_type": "code",
   "execution_count": 10,
   "metadata": {
    "collapsed": true
   },
   "outputs": [],
   "source": [
    "def get_image(image_url):\n",
    "    r = requests.get(image_url)\n",
    "    image_binary = r.content\n",
    "    \n",
    "    try:\n",
    "        image_array = img_to_array(Image.open(BytesIO(image_binary)))\n",
    "    except IOError:\n",
    "        return np.array([])\n",
    "    \n",
    "    return image_array"
   ]
  },
  {
   "cell_type": "code",
   "execution_count": 11,
   "metadata": {
    "collapsed": true
   },
   "outputs": [],
   "source": [
    "def get_image_batch(index):\n",
    "    error = None\n",
    "    params['start'] = index\n",
    "    r = requests.get(url, params)\n",
    "    google_search_json = r.json()\n",
    "    \n",
    "    batch_images = np.array([])\n",
    "    if ('items' in google_search_json):\n",
    "        batch_images = np.array([get_image(item['link']) for item in google_search_json['items']])\n",
    "        # Remove empty images\n",
    "        batch_images = batch_images[np.int_(np.nonzero(batch_images)[0])]\n",
    "    else: \n",
    "        error = google_search_json\n",
    "\n",
    "    return batch_images, error"
   ]
  },
  {
   "cell_type": "markdown",
   "metadata": {},
   "source": [
    "### Dataframe construction"
   ]
  },
  {
   "cell_type": "code",
   "execution_count": null,
   "metadata": {
    "collapsed": true
   },
   "outputs": [],
   "source": [
    "df = pd.DataFrame({'original': [], 'category': []})"
   ]
  },
  {
   "cell_type": "code",
   "execution_count": 20,
   "metadata": {},
   "outputs": [
    {
     "name": "stdout",
     "output_type": "stream",
     "text": [
      "fetching images for modern bathroom\n",
      "batch 1\n",
      "batch 11\n",
      "batch 21\n",
      "batch 31\n",
      "batch 41\n",
      "batch 51\n",
      "batch 61\n",
      "batch 71\n",
      "batch 81\n",
      "batch 91\n",
      "batch 101\n",
      "{u'error': {u'code': 400, u'message': u'Invalid Value', u'errors': [{u'domain': u'global', u'message': u'Invalid Value', u'reason': u'invalid'}]}}\n"
     ]
    }
   ],
   "source": [
    "searches = [\n",
    "#     { 'query': 'interior design', 'category': 'general'},\n",
    "#     { 'query': 'interior design bed room', 'category': 'bedroom' },\n",
    "#     { 'query': 'interior design living room', 'category': 'living_room' },\n",
    "#     { 'query': 'interior design kitchen', 'category': 'kitchen' },\n",
    "#     { 'query': 'interior design dining room', 'category': 'dining_room' },\n",
    "#     { 'query': 'interior design bathroom', 'category': 'bathroom' },\n",
    "#     { 'query': 'bed room', 'category': 'bedroom' },\n",
    "#     { 'query': 'living room', 'category': 'living_room' },\n",
    "    { 'query': 'kitchen', 'category': 'kitchen' },\n",
    "    { 'query': 'dining room', 'category': 'dining_room' },\n",
    "    { 'query': 'bathroom', 'category': 'bathroom' },\n",
    "    { 'query': 'bed room ideas', 'category': 'bedroom' },\n",
    "    { 'query': 'living room ideas', 'category': 'living_room' },\n",
    "    { 'query': 'kitchen ideas', 'category': 'kitchen' },\n",
    "    { 'query': 'dining room ideas', 'category': 'dining_room' },\n",
    "    { 'query': 'bathroom ideas', 'category': 'bathroom' },\n",
    "    { 'query': 'modern bed room', 'category': 'bedroom' },\n",
    "    { 'query': 'modern living room', 'category': 'living_room' },\n",
    "    { 'query': 'modern kitchen', 'category': 'kitchen' },\n",
    "    { 'query': 'modern dining room', 'category': 'dining_room' },\n",
    "    { 'query': 'modern bathroom', 'category': 'bathroom' },\n",
    "]\n",
    "\n",
    "for search  in searches:\n",
    "    clear_output()\n",
    "    print 'fetching images for ' + search['query']\n",
    "    params['q'] = search['query']\n",
    "    \n",
    "    for i in range(1, 1000, 10):\n",
    "        print 'batch %d' % i\n",
    "        batch, error = get_image_batch(i)\n",
    "        if error:\n",
    "            print error\n",
    "            break\n",
    "\n",
    "        df = pd.concat([df, pd.DataFrame({'original': batch, 'category': search['category'] })])"
   ]
  },
  {
   "cell_type": "code",
   "execution_count": 21,
   "metadata": {},
   "outputs": [
    {
     "data": {
      "text/plain": [
       "(1434, 2)"
      ]
     },
     "execution_count": 21,
     "metadata": {},
     "output_type": "execute_result"
    }
   ],
   "source": [
    "df.shape"
   ]
  },
  {
   "cell_type": "markdown",
   "metadata": {},
   "source": [
    "### Remove images without the proper shape (probably pngs)"
   ]
  },
  {
   "cell_type": "code",
   "execution_count": 22,
   "metadata": {
    "collapsed": true
   },
   "outputs": [],
   "source": [
    "df = df[df.original.apply(lambda x: x.shape[2] == 3)]"
   ]
  },
  {
   "cell_type": "code",
   "execution_count": 23,
   "metadata": {},
   "outputs": [
    {
     "data": {
      "text/plain": [
       "(1432, 2)"
      ]
     },
     "execution_count": 23,
     "metadata": {},
     "output_type": "execute_result"
    }
   ],
   "source": [
    "df.shape"
   ]
  },
  {
   "cell_type": "markdown",
   "metadata": {},
   "source": [
    "### Remove duplicated images"
   ]
  },
  {
   "cell_type": "code",
   "execution_count": 24,
   "metadata": {
    "collapsed": true
   },
   "outputs": [],
   "source": [
    "df['image_hashes'] = df.original.map(lambda x: imagehash.whash(array_to_img(x)).__str__())\n",
    "df = df.drop_duplicates(subset='image_hashes')"
   ]
  },
  {
   "cell_type": "code",
   "execution_count": 25,
   "metadata": {},
   "outputs": [
    {
     "data": {
      "text/plain": [
       "(1232, 3)"
      ]
     },
     "execution_count": 25,
     "metadata": {},
     "output_type": "execute_result"
    }
   ],
   "source": [
    "df.shape"
   ]
  },
  {
   "cell_type": "markdown",
   "metadata": {},
   "source": [
    "### Save data"
   ]
  },
  {
   "cell_type": "code",
   "execution_count": 26,
   "metadata": {
    "collapsed": true
   },
   "outputs": [],
   "source": [
    "# df.to_pickle('raw_data.pkl')"
   ]
  },
  {
   "cell_type": "markdown",
   "metadata": {},
   "source": [
    "### Visualize data"
   ]
  },
  {
   "cell_type": "code",
   "execution_count": 27,
   "metadata": {},
   "outputs": [
    {
     "data": {
      "text/plain": [
       "(1232, 3)"
      ]
     },
     "execution_count": 27,
     "metadata": {},
     "output_type": "execute_result"
    }
   ],
   "source": [
    "df.shape"
   ]
  },
  {
   "cell_type": "code",
   "execution_count": 28,
   "metadata": {},
   "outputs": [
    {
     "data": {
      "text/plain": [
       "Index([u'category', u'original', u'image_hashes'], dtype='object')"
      ]
     },
     "execution_count": 28,
     "metadata": {},
     "output_type": "execute_result"
    }
   ],
   "source": [
    "df.columns"
   ]
  },
  {
   "cell_type": "code",
   "execution_count": 29,
   "metadata": {},
   "outputs": [
    {
     "data": {
      "text/plain": [
       "bathroom       294\n",
       "bedroom        251\n",
       "kitchen        228\n",
       "living_room    208\n",
       "dining_room    165\n",
       "general         86\n",
       "Name: category, dtype: int64"
      ]
     },
     "execution_count": 29,
     "metadata": {},
     "output_type": "execute_result"
    }
   ],
   "source": [
    "df.category.value_counts()"
   ]
  },
  {
   "cell_type": "code",
   "execution_count": 31,
   "metadata": {},
   "outputs": [
    {
     "name": "stderr",
     "output_type": "stream",
     "text": [
      "Widget Javascript not detected.  It may not be installed or enabled properly.\n"
     ]
    },
    {
     "data": {
      "application/vnd.jupyter.widget-view+json": {
       "model_id": "aa0c324acf5848c0b72163a88092ef90"
      }
     },
     "metadata": {},
     "output_type": "display_data"
    }
   ],
   "source": [
    "n_samples = df.shape[0]\n",
    "show_photos(df.original.iloc[np.random.choice(n_samples, 9)])"
   ]
  },
  {
   "cell_type": "code",
   "execution_count": null,
   "metadata": {
    "collapsed": true
   },
   "outputs": [],
   "source": []
  }
 ],
 "metadata": {
  "kernelspec": {
   "display_name": "Python 2",
   "language": "python",
   "name": "python2"
  },
  "language_info": {
   "codemirror_mode": {
    "name": "ipython",
    "version": 2
   },
   "file_extension": ".py",
   "mimetype": "text/x-python",
   "name": "python",
   "nbconvert_exporter": "python",
   "pygments_lexer": "ipython2",
   "version": "2.7.13"
  }
 },
 "nbformat": 4,
 "nbformat_minor": 2
}

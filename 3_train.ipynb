{
 "cells": [
  {
   "cell_type": "code",
   "execution_count": 3,
   "metadata": {},
   "outputs": [],
   "source": [
    "%matplotlib inline\n",
    "import numpy as np\n",
    "import matplotlib.pyplot as plt\n",
    "import pandas as pd\n",
    "import h5py as h5py\n",
    "from keras.applications import inception_v3 as i3\n",
    "from keras.applications import vgg19\n",
    "from keras import optimizers\n",
    "from keras.models import Model\n",
    "from keras.layers import Dropout, Flatten, Dense\n",
    "from keras.preprocessing.image import img_to_array, array_to_img, ImageDataGenerator\n",
    "from keras.callbacks import ModelCheckpoint, EarlyStopping, TensorBoard\n",
    "from extras import *"
   ]
  },
  {
   "cell_type": "code",
   "execution_count": 4,
   "metadata": {
    "collapsed": true
   },
   "outputs": [],
   "source": [
    "df = pd.read_pickle('labeled_data.pkl')"
   ]
  },
  {
   "cell_type": "code",
   "execution_count": 5,
   "metadata": {},
   "outputs": [
    {
     "name": "stdout",
     "output_type": "stream",
     "text": [
      "Downloading data from https://github.com/fchollet/deep-learning-models/releases/download/v0.1/vgg19_weights_tf_dim_ordering_tf_kernels_notop.h5\n",
      "80142336/80134624 [==============================] - 49s    \n"
     ]
    }
   ],
   "source": [
    "width = 224\n",
    "height = 224\n",
    "model = vgg19.VGG19(weights='imagenet', include_top=False, input_shape=(width, height, 3))"
   ]
  },
  {
   "cell_type": "code",
   "execution_count": 6,
   "metadata": {
    "collapsed": true
   },
   "outputs": [],
   "source": [
    "for layer in model.layers[:5]:\n",
    "    layer.trainable = False\n",
    "\n",
    "x = model.output\n",
    "x = Flatten()(x)\n",
    "x = Dense(1024, activation=\"relu\", name=\"dense_custom0\")(x)\n",
    "x = Dropout(0.5)(x)\n",
    "x = Dense(1024, activation=\"relu\", name=\"dense_custom1\")(x)\n",
    "predictions = Dense(2, activation=\"softmax\", name=\"predictions\")(x)\n",
    "\n",
    "model_final = Model(inputs = model.input, outputs = predictions)\n",
    "model_final.compile(loss = \"categorical_crossentropy\", optimizer = optimizers.SGD(lr=0.0001, momentum=0.9), metrics=[\"accuracy\"])\n",
    "# model_final.compile(loss = \"sparse_categorical_crossentropy\", optimizer = optimizers.SGD(lr=0.0001, momentum=0.9), metrics=[\"accuracy\"])\n"
   ]
  },
  {
   "cell_type": "code",
   "execution_count": 5,
   "metadata": {},
   "outputs": [],
   "source": [
    "# # add_normalized_column(df, 299, 299, 'original', 'inception_v3_input')\n",
    "# add_normalized_column(df, width, height, 'original', 'vgg19_input')"
   ]
  },
  {
   "cell_type": "code",
   "execution_count": 13,
   "metadata": {},
   "outputs": [],
   "source": [
    "#input_column = 'inception_v3_input'\n",
    "# input_column = 'vgg19_input'\n",
    "input_column = 'original'\n",
    "output_column = 'mariona_y'\n",
    "xs = np.array([ resize_image(img, width, height) for img in df[df[output_column].notnull()][input_column].as_matrix() ])\n",
    "xs = np.array([ e for e in xs])\n",
    "ys = df[df[output_column].notnull()][output_column].as_matrix()\n",
    "# One Hot Encoding ys\n",
    "ohe_idxs = ys.astype(int)\n",
    "ys = np.zeros( (len(ys), 2) )\n",
    "ys[np.arange(ohe_idxs.shape[0]), ohe_idxs] = 1.0\n",
    "\n",
    "n_samples = len(xs)\n",
    "indexes = np.random.choice(n_samples, n_samples/10)\n",
    "train_xs  = np.delete(xs, indexes, axis=0)\n",
    "train_ys  = np.delete(ys, indexes, axis=0)\n",
    "test_xs = xs[indexes]\n",
    "test_ys = ys[indexes]\n",
    "n_training_samples = len(train_xs)\n",
    "n_validation_samples = len(test_xs)"
   ]
  },
  {
   "cell_type": "code",
   "execution_count": 14,
   "metadata": {
    "collapsed": true
   },
   "outputs": [],
   "source": [
    "def data_generator(samples, labels, batch_size):\n",
    "    while True:\n",
    "        indexes = np.random.randint(len(samples), size=batch_size)\n",
    "        yield samples[indexes], labels[indexes]"
   ]
  },
  {
   "cell_type": "code",
   "execution_count": 15,
   "metadata": {},
   "outputs": [],
   "source": [
    "datagen = ImageDataGenerator(   \n",
    "    horizontal_flip = True,\n",
    "    zoom_range = 0.2,\n",
    "    width_shift_range = 0.2,\n",
    "    height_shift_range = 0.2,\n",
    ")\n",
    "\n",
    "datagen.fit(xs)"
   ]
  },
  {
   "cell_type": "code",
   "execution_count": 16,
   "metadata": {},
   "outputs": [],
   "source": [
    "checkpoint = ModelCheckpoint(\"weights.{epoch:02d}-{val_acc:.2f}.hdf5\", monitor='val_acc', verbose=0, save_best_only=False, save_weights_only=False, period=3)\n",
    "# early = EarlyStopping(monitor='val_acc', min_delta=0, patience=10, verbose=1, mode='auto')\n",
    "tb_callback = TensorBoard(log_dir='./tensorboard', histogram_freq=1, write_graph=False, write_images=True)"
   ]
  },
  {
   "cell_type": "code",
   "execution_count": 17,
   "metadata": {
    "collapsed": true
   },
   "outputs": [],
   "source": [
    "training_batch_size = 32\n",
    "training_steps_per_epoch = 10\n",
    "epochs = 100\n",
    "validation_batch_size = n_validation_samples\n",
    "validation_steps_per_epoch = 1\n"
   ]
  },
  {
   "cell_type": "code",
   "execution_count": 18,
   "metadata": {},
   "outputs": [],
   "source": [
    "# hist = model_final.fit_generator(\n",
    "#     data_generator(train_xs, train_ys, batch_size=training_batch_size), \n",
    "#     validation_data=data_generator(test_xs, test_ys, batch_size=validation_batch_size),\n",
    "#     validation_steps=validation_steps_per_epoch,\n",
    "#     steps_per_epoch=training_steps_per_epoch, \n",
    "#     epochs=epochs,\n",
    "#     callbacks = [checkpoint, tb_callback]\n",
    "# )"
   ]
  },
  {
   "cell_type": "code",
   "execution_count": 19,
   "metadata": {
    "scrolled": false
   },
   "outputs": [
    {
     "name": "stdout",
     "output_type": "stream",
     "text": [
      "INFO:tensorflow:Summary name block1_conv1/kernel:0 is illegal; using block1_conv1/kernel_0 instead.\n",
      "INFO:tensorflow:Summary name block1_conv1/bias:0 is illegal; using block1_conv1/bias_0 instead.\n",
      "INFO:tensorflow:Summary name block1_conv1/bias:0 is illegal; using block1_conv1/bias_0 instead.\n",
      "INFO:tensorflow:Summary name block1_conv2/kernel:0 is illegal; using block1_conv2/kernel_0 instead.\n",
      "INFO:tensorflow:Summary name block1_conv2/bias:0 is illegal; using block1_conv2/bias_0 instead.\n",
      "INFO:tensorflow:Summary name block1_conv2/bias:0 is illegal; using block1_conv2/bias_0 instead.\n",
      "INFO:tensorflow:Summary name block2_conv1/kernel:0 is illegal; using block2_conv1/kernel_0 instead.\n",
      "INFO:tensorflow:Summary name block2_conv1/bias:0 is illegal; using block2_conv1/bias_0 instead.\n",
      "INFO:tensorflow:Summary name block2_conv1/bias:0 is illegal; using block2_conv1/bias_0 instead.\n",
      "INFO:tensorflow:Summary name block2_conv2/kernel:0 is illegal; using block2_conv2/kernel_0 instead.\n",
      "INFO:tensorflow:Summary name block2_conv2/bias:0 is illegal; using block2_conv2/bias_0 instead.\n",
      "INFO:tensorflow:Summary name block2_conv2/bias:0 is illegal; using block2_conv2/bias_0 instead.\n",
      "INFO:tensorflow:Summary name block3_conv1/kernel:0 is illegal; using block3_conv1/kernel_0 instead.\n",
      "INFO:tensorflow:Summary name block3_conv1/bias:0 is illegal; using block3_conv1/bias_0 instead.\n",
      "INFO:tensorflow:Summary name block3_conv1/bias:0 is illegal; using block3_conv1/bias_0 instead.\n",
      "INFO:tensorflow:Summary name block3_conv2/kernel:0 is illegal; using block3_conv2/kernel_0 instead.\n",
      "INFO:tensorflow:Summary name block3_conv2/bias:0 is illegal; using block3_conv2/bias_0 instead.\n",
      "INFO:tensorflow:Summary name block3_conv2/bias:0 is illegal; using block3_conv2/bias_0 instead.\n",
      "INFO:tensorflow:Summary name block3_conv3/kernel:0 is illegal; using block3_conv3/kernel_0 instead.\n",
      "INFO:tensorflow:Summary name block3_conv3/bias:0 is illegal; using block3_conv3/bias_0 instead.\n",
      "INFO:tensorflow:Summary name block3_conv3/bias:0 is illegal; using block3_conv3/bias_0 instead.\n",
      "INFO:tensorflow:Summary name block3_conv4/kernel:0 is illegal; using block3_conv4/kernel_0 instead.\n",
      "INFO:tensorflow:Summary name block3_conv4/bias:0 is illegal; using block3_conv4/bias_0 instead.\n",
      "INFO:tensorflow:Summary name block3_conv4/bias:0 is illegal; using block3_conv4/bias_0 instead.\n",
      "INFO:tensorflow:Summary name block4_conv1/kernel:0 is illegal; using block4_conv1/kernel_0 instead.\n",
      "INFO:tensorflow:Summary name block4_conv1/bias:0 is illegal; using block4_conv1/bias_0 instead.\n",
      "INFO:tensorflow:Summary name block4_conv1/bias:0 is illegal; using block4_conv1/bias_0 instead.\n",
      "INFO:tensorflow:Summary name block4_conv2/kernel:0 is illegal; using block4_conv2/kernel_0 instead.\n",
      "INFO:tensorflow:Summary name block4_conv2/bias:0 is illegal; using block4_conv2/bias_0 instead.\n",
      "INFO:tensorflow:Summary name block4_conv2/bias:0 is illegal; using block4_conv2/bias_0 instead.\n",
      "INFO:tensorflow:Summary name block4_conv3/kernel:0 is illegal; using block4_conv3/kernel_0 instead.\n",
      "INFO:tensorflow:Summary name block4_conv3/bias:0 is illegal; using block4_conv3/bias_0 instead.\n",
      "INFO:tensorflow:Summary name block4_conv3/bias:0 is illegal; using block4_conv3/bias_0 instead.\n",
      "INFO:tensorflow:Summary name block4_conv4/kernel:0 is illegal; using block4_conv4/kernel_0 instead.\n",
      "INFO:tensorflow:Summary name block4_conv4/bias:0 is illegal; using block4_conv4/bias_0 instead.\n",
      "INFO:tensorflow:Summary name block4_conv4/bias:0 is illegal; using block4_conv4/bias_0 instead.\n",
      "INFO:tensorflow:Summary name block5_conv1/kernel:0 is illegal; using block5_conv1/kernel_0 instead.\n",
      "INFO:tensorflow:Summary name block5_conv1/bias:0 is illegal; using block5_conv1/bias_0 instead.\n",
      "INFO:tensorflow:Summary name block5_conv1/bias:0 is illegal; using block5_conv1/bias_0 instead.\n",
      "INFO:tensorflow:Summary name block5_conv2/kernel:0 is illegal; using block5_conv2/kernel_0 instead.\n",
      "INFO:tensorflow:Summary name block5_conv2/bias:0 is illegal; using block5_conv2/bias_0 instead.\n",
      "INFO:tensorflow:Summary name block5_conv2/bias:0 is illegal; using block5_conv2/bias_0 instead.\n",
      "INFO:tensorflow:Summary name block5_conv3/kernel:0 is illegal; using block5_conv3/kernel_0 instead.\n",
      "INFO:tensorflow:Summary name block5_conv3/bias:0 is illegal; using block5_conv3/bias_0 instead.\n",
      "INFO:tensorflow:Summary name block5_conv3/bias:0 is illegal; using block5_conv3/bias_0 instead.\n",
      "INFO:tensorflow:Summary name block5_conv4/kernel:0 is illegal; using block5_conv4/kernel_0 instead.\n",
      "INFO:tensorflow:Summary name block5_conv4/bias:0 is illegal; using block5_conv4/bias_0 instead.\n",
      "INFO:tensorflow:Summary name block5_conv4/bias:0 is illegal; using block5_conv4/bias_0 instead.\n",
      "INFO:tensorflow:Summary name dense_custom0/kernel:0 is illegal; using dense_custom0/kernel_0 instead.\n",
      "INFO:tensorflow:Summary name dense_custom0/kernel:0 is illegal; using dense_custom0/kernel_0 instead.\n",
      "INFO:tensorflow:Summary name dense_custom0/bias:0 is illegal; using dense_custom0/bias_0 instead.\n",
      "INFO:tensorflow:Summary name dense_custom0/bias:0 is illegal; using dense_custom0/bias_0 instead.\n",
      "INFO:tensorflow:Summary name dense_custom1/kernel:0 is illegal; using dense_custom1/kernel_0 instead.\n",
      "INFO:tensorflow:Summary name dense_custom1/kernel:0 is illegal; using dense_custom1/kernel_0 instead.\n",
      "INFO:tensorflow:Summary name dense_custom1/bias:0 is illegal; using dense_custom1/bias_0 instead.\n",
      "INFO:tensorflow:Summary name dense_custom1/bias:0 is illegal; using dense_custom1/bias_0 instead.\n",
      "INFO:tensorflow:Summary name predictions/kernel:0 is illegal; using predictions/kernel_0 instead.\n",
      "INFO:tensorflow:Summary name predictions/kernel:0 is illegal; using predictions/kernel_0 instead.\n",
      "INFO:tensorflow:Summary name predictions/bias:0 is illegal; using predictions/bias_0 instead.\n",
      "INFO:tensorflow:Summary name predictions/bias:0 is illegal; using predictions/bias_0 instead.\n",
      "Epoch 1/100\n",
      "10/10 [==============================] - 424s - loss: 3.5047 - acc: 0.5781 - val_loss: 1.2253 - val_acc: 0.6000\n",
      "Epoch 2/100\n",
      "10/10 [==============================] - 396s - loss: 1.3517 - acc: 0.5315 - val_loss: 0.6504 - val_acc: 0.6400\n",
      "Epoch 3/100\n",
      "10/10 [==============================] - 397s - loss: 0.6582 - acc: 0.6383 - val_loss: 0.6572 - val_acc: 0.6200\n",
      "Epoch 4/100\n",
      "10/10 [==============================] - 425s - loss: 0.6899 - acc: 0.5969 - val_loss: 0.6874 - val_acc: 0.5600\n",
      "Epoch 5/100\n",
      "10/10 [==============================] - 396s - loss: 0.6800 - acc: 0.6289 - val_loss: 0.6583 - val_acc: 0.6200\n",
      "Epoch 6/100\n",
      "10/10 [==============================] - 398s - loss: 0.6647 - acc: 0.6195 - val_loss: 0.6468 - val_acc: 0.6200\n",
      "Epoch 7/100\n",
      "10/10 [==============================] - 424s - loss: 0.6573 - acc: 0.6500 - val_loss: 0.6272 - val_acc: 0.6200\n",
      "Epoch 8/100\n",
      "10/10 [==============================] - 397s - loss: 0.6837 - acc: 0.5849 - val_loss: 0.6862 - val_acc: 0.6200\n",
      "Epoch 9/100\n",
      "10/10 [==============================] - 398s - loss: 0.6626 - acc: 0.6509 - val_loss: 0.6753 - val_acc: 0.6200\n",
      "Epoch 10/100\n",
      "10/10 [==============================] - 424s - loss: 0.6719 - acc: 0.6094 - val_loss: 0.6283 - val_acc: 0.6200\n",
      "Epoch 11/100\n",
      "10/10 [==============================] - 424s - loss: 0.6401 - acc: 0.6478 - val_loss: 0.6693 - val_acc: 0.6200\n",
      "Epoch 12/100\n",
      "10/10 [==============================] - 398s - loss: 0.6573 - acc: 0.6635 - val_loss: 0.6554 - val_acc: 0.6200\n",
      "Epoch 13/100\n",
      "10/10 [==============================] - 426s - loss: 0.6667 - acc: 0.6406 - val_loss: 0.6698 - val_acc: 0.6200\n",
      "Epoch 14/100\n",
      "10/10 [==============================] - 398s - loss: 0.6652 - acc: 0.6447 - val_loss: 0.6759 - val_acc: 0.6200\n",
      "Epoch 15/100\n",
      "10/10 [==============================] - 398s - loss: 0.6779 - acc: 0.6008 - val_loss: 0.6693 - val_acc: 0.6200\n",
      "Epoch 16/100\n",
      "10/10 [==============================] - 424s - loss: 0.6667 - acc: 0.6156 - val_loss: 0.6604 - val_acc: 0.6200\n",
      "Epoch 17/100\n",
      "10/10 [==============================] - 398s - loss: 0.6552 - acc: 0.6258 - val_loss: 0.6529 - val_acc: 0.6200\n",
      "Epoch 18/100\n",
      "10/10 [==============================] - 398s - loss: 0.6466 - acc: 0.6415 - val_loss: 0.6564 - val_acc: 0.6200\n",
      "Epoch 19/100\n"
     ]
    },
    {
     "name": "stdout",
     "output_type": "stream",
     "text": [
      "10/10 [==============================] - 425s - loss: 0.6616 - acc: 0.6250 - val_loss: 0.6537 - val_acc: 0.6200\n",
      "Epoch 20/100\n",
      "10/10 [==============================] - 397s - loss: 0.6749 - acc: 0.6133 - val_loss: 0.6479 - val_acc: 0.6200\n",
      "Epoch 21/100\n",
      "10/10 [==============================] - 399s - loss: 0.6626 - acc: 0.6353 - val_loss: 0.6538 - val_acc: 0.6200\n",
      "Epoch 22/100\n",
      "10/10 [==============================] - 427s - loss: 0.6466 - acc: 0.6156 - val_loss: 0.6682 - val_acc: 0.6200\n",
      "Epoch 23/100\n",
      "10/10 [==============================] - 398s - loss: 0.6285 - acc: 0.7012 - val_loss: 0.6882 - val_acc: 0.6200\n",
      "Epoch 24/100\n",
      "10/10 [==============================] - 399s - loss: 0.6859 - acc: 0.5944 - val_loss: 0.6515 - val_acc: 0.6200\n",
      "Epoch 25/100\n",
      "10/10 [==============================] - 425s - loss: 0.6648 - acc: 0.6094 - val_loss: 0.6615 - val_acc: 0.6200\n",
      "Epoch 26/100\n",
      "10/10 [==============================] - 398s - loss: 0.6220 - acc: 0.7012 - val_loss: 0.6363 - val_acc: 0.6200\n",
      "Epoch 27/100\n",
      "10/10 [==============================] - 399s - loss: 0.6794 - acc: 0.5976 - val_loss: 0.6399 - val_acc: 0.6200\n",
      "Epoch 28/100\n",
      "10/10 [==============================] - 426s - loss: 0.6516 - acc: 0.6281 - val_loss: 0.6444 - val_acc: 0.6200\n",
      "Epoch 29/100\n",
      "10/10 [==============================] - 398s - loss: 0.6372 - acc: 0.6604 - val_loss: 0.6590 - val_acc: 0.6200\n",
      "Epoch 30/100\n",
      "10/10 [==============================] - 400s - loss: 0.6523 - acc: 0.6195 - val_loss: 0.6501 - val_acc: 0.6200\n",
      "Epoch 31/100\n",
      "10/10 [==============================] - 426s - loss: 0.6594 - acc: 0.6281 - val_loss: 0.6236 - val_acc: 0.6200\n",
      "Epoch 32/100\n",
      "10/10 [==============================] - 398s - loss: 0.6362 - acc: 0.6320 - val_loss: 0.6304 - val_acc: 0.6200\n",
      "Epoch 33/100\n",
      "10/10 [==============================] - 399s - loss: 0.6420 - acc: 0.6540 - val_loss: 0.6394 - val_acc: 0.6200\n",
      "Epoch 34/100\n",
      "10/10 [==============================] - 425s - loss: 0.6503 - acc: 0.6219 - val_loss: 0.6274 - val_acc: 0.6200\n",
      "Epoch 35/100\n",
      "10/10 [==============================] - 398s - loss: 0.6232 - acc: 0.6792 - val_loss: 0.6287 - val_acc: 0.6200\n",
      "Epoch 36/100\n",
      "10/10 [==============================] - 399s - loss: 0.6447 - acc: 0.6070 - val_loss: 0.6208 - val_acc: 0.6200\n",
      "Epoch 37/100\n",
      "10/10 [==============================] - 425s - loss: 0.6436 - acc: 0.6063 - val_loss: 0.6336 - val_acc: 0.6400\n",
      "Epoch 38/100\n",
      "10/10 [==============================] - 398s - loss: 0.6169 - acc: 0.6698 - val_loss: 0.6382 - val_acc: 0.6200\n",
      "Epoch 39/100\n",
      "10/10 [==============================] - 401s - loss: 0.6613 - acc: 0.6446 - val_loss: 0.6334 - val_acc: 0.6200\n",
      "Epoch 40/100\n",
      "10/10 [==============================] - 426s - loss: 0.6349 - acc: 0.6344 - val_loss: 0.6569 - val_acc: 0.6200\n",
      "Epoch 41/100\n",
      "10/10 [==============================] - 398s - loss: 0.6906 - acc: 0.6133 - val_loss: 0.6354 - val_acc: 0.6200\n",
      "Epoch 42/100\n",
      "10/10 [==============================] - 399s - loss: 0.6549 - acc: 0.6259 - val_loss: 0.6115 - val_acc: 0.6200\n",
      "Epoch 43/100\n",
      "10/10 [==============================] - 425s - loss: 0.6062 - acc: 0.6594 - val_loss: 0.6156 - val_acc: 0.6200\n",
      "Epoch 44/100\n",
      "10/10 [==============================] - 398s - loss: 0.6558 - acc: 0.5881 - val_loss: 0.6246 - val_acc: 0.6200\n",
      "Epoch 45/100\n",
      "10/10 [==============================] - 399s - loss: 0.6334 - acc: 0.6415 - val_loss: 0.6216 - val_acc: 0.6200\n",
      "Epoch 46/100\n",
      "10/10 [==============================] - 425s - loss: 0.6228 - acc: 0.6500 - val_loss: 0.5807 - val_acc: 0.6200\n",
      "Epoch 47/100\n",
      "10/10 [==============================] - 398s - loss: 0.6374 - acc: 0.6006 - val_loss: 0.5870 - val_acc: 0.6200\n",
      "Epoch 48/100\n",
      "10/10 [==============================] - 400s - loss: 0.5885 - acc: 0.6760 - val_loss: 0.5982 - val_acc: 0.6200\n",
      "Epoch 49/100\n",
      "10/10 [==============================] - 426s - loss: 0.6404 - acc: 0.6188 - val_loss: 0.6075 - val_acc: 0.6200\n",
      "Epoch 50/100\n",
      "10/10 [==============================] - 398s - loss: 0.6154 - acc: 0.6668 - val_loss: 0.5445 - val_acc: 0.6200\n",
      "Epoch 51/100\n",
      "10/10 [==============================] - 399s - loss: 0.5963 - acc: 0.6446 - val_loss: 0.5728 - val_acc: 0.6200\n",
      "Epoch 52/100\n",
      "10/10 [==============================] - 425s - loss: 0.6099 - acc: 0.6562 - val_loss: 0.5639 - val_acc: 0.6600\n",
      "Epoch 53/100\n",
      "10/10 [==============================] - 398s - loss: 0.6055 - acc: 0.6352 - val_loss: 0.5594 - val_acc: 0.6400\n",
      "Epoch 54/100\n",
      "10/10 [==============================] - 399s - loss: 0.6104 - acc: 0.6510 - val_loss: 0.5478 - val_acc: 0.6200\n",
      "Epoch 55/100\n",
      "10/10 [==============================] - 425s - loss: 0.6023 - acc: 0.6344 - val_loss: 0.5202 - val_acc: 0.7200\n",
      "Epoch 56/100\n",
      "10/10 [==============================] - 398s - loss: 0.5719 - acc: 0.6950 - val_loss: 0.6097 - val_acc: 0.6200\n",
      "Epoch 57/100\n",
      "10/10 [==============================] - 400s - loss: 0.6340 - acc: 0.6635 - val_loss: 0.5573 - val_acc: 0.7400\n",
      "Epoch 58/100\n",
      "10/10 [==============================] - 426s - loss: 0.6251 - acc: 0.6531 - val_loss: 0.5473 - val_acc: 0.7800\n",
      "Epoch 59/100\n",
      "10/10 [==============================] - 398s - loss: 0.6155 - acc: 0.6383 - val_loss: 0.5598 - val_acc: 0.6400\n",
      "Epoch 60/100\n",
      "10/10 [==============================] - 399s - loss: 0.5884 - acc: 0.6949 - val_loss: 0.5583 - val_acc: 0.6000\n",
      "Epoch 61/100\n",
      "10/10 [==============================] - 425s - loss: 0.6320 - acc: 0.6531 - val_loss: 0.5673 - val_acc: 0.7600\n",
      "Epoch 62/100\n",
      "10/10 [==============================] - 398s - loss: 0.6267 - acc: 0.6353 - val_loss: 0.5412 - val_acc: 0.7000\n",
      "Epoch 63/100\n",
      "10/10 [==============================] - 399s - loss: 0.5721 - acc: 0.6919 - val_loss: 0.4885 - val_acc: 0.7800\n",
      "Epoch 64/100\n",
      "10/10 [==============================] - 425s - loss: 0.5786 - acc: 0.6750 - val_loss: 0.4937 - val_acc: 0.7600\n",
      "Epoch 65/100\n",
      "10/10 [==============================] - 400s - loss: 0.5714 - acc: 0.7012 - val_loss: 0.5125 - val_acc: 0.7600\n",
      "Epoch 66/100\n",
      "10/10 [==============================] - 419s - loss: 0.5684 - acc: 0.6855 - val_loss: 0.5148 - val_acc: 0.6400\n",
      "Epoch 67/100\n",
      "10/10 [==============================] - 446s - loss: 0.5821 - acc: 0.6969 - val_loss: 0.4684 - val_acc: 0.8200\n",
      "Epoch 68/100\n",
      "10/10 [==============================] - 417s - loss: 0.5447 - acc: 0.7263 - val_loss: 0.6036 - val_acc: 0.7000\n",
      "Epoch 69/100\n",
      "10/10 [==============================] - 418s - loss: 0.6608 - acc: 0.5629 - val_loss: 0.5090 - val_acc: 0.6600\n",
      "Epoch 70/100\n",
      "10/10 [==============================] - 445s - loss: 0.5595 - acc: 0.6656 - val_loss: 0.5030 - val_acc: 0.7000\n",
      "Epoch 71/100\n",
      "10/10 [==============================] - 416s - loss: 0.6047 - acc: 0.6761 - val_loss: 0.4919 - val_acc: 0.7400\n",
      "Epoch 72/100\n",
      "10/10 [==============================] - 418s - loss: 0.5378 - acc: 0.7232 - val_loss: 0.5056 - val_acc: 0.7400\n",
      "Epoch 73/100\n",
      "10/10 [==============================] - 446s - loss: 0.5545 - acc: 0.6937 - val_loss: 0.5002 - val_acc: 0.7800\n",
      "Epoch 74/100\n",
      "10/10 [==============================] - 418s - loss: 0.5224 - acc: 0.7421 - val_loss: 0.5385 - val_acc: 0.7400\n",
      "Epoch 75/100\n",
      "10/10 [==============================] - 417s - loss: 0.6080 - acc: 0.6793 - val_loss: 0.4684 - val_acc: 0.7600\n",
      "Epoch 76/100\n",
      "10/10 [==============================] - 435s - loss: 0.5577 - acc: 0.7031 - val_loss: 0.4689 - val_acc: 0.7000\n",
      "Epoch 77/100\n",
      "10/10 [==============================] - 398s - loss: 0.5574 - acc: 0.7012 - val_loss: 0.4812 - val_acc: 0.7600\n",
      "Epoch 78/100\n",
      "10/10 [==============================] - 399s - loss: 0.5381 - acc: 0.7013 - val_loss: 0.4536 - val_acc: 0.7200\n",
      "Epoch 79/100\n",
      "10/10 [==============================] - 426s - loss: 0.5126 - acc: 0.7781 - val_loss: 0.3607 - val_acc: 0.8000\n",
      "Epoch 80/100\n",
      "10/10 [==============================] - 398s - loss: 0.5516 - acc: 0.7232 - val_loss: 0.4653 - val_acc: 0.7400\n",
      "Epoch 81/100\n",
      "10/10 [==============================] - 399s - loss: 0.5785 - acc: 0.7295 - val_loss: 0.5094 - val_acc: 0.7400\n",
      "Epoch 82/100\n",
      "10/10 [==============================] - 425s - loss: 0.6138 - acc: 0.6312 - val_loss: 0.4808 - val_acc: 0.7000\n",
      "Epoch 83/100\n",
      "10/10 [==============================] - 399s - loss: 0.5653 - acc: 0.7043 - val_loss: 0.4840 - val_acc: 0.8400\n",
      "Epoch 84/100\n"
     ]
    },
    {
     "name": "stdout",
     "output_type": "stream",
     "text": [
      "10/10 [==============================] - 400s - loss: 0.5532 - acc: 0.7201 - val_loss: 0.4478 - val_acc: 0.7800\n",
      "Epoch 85/100\n",
      "10/10 [==============================] - 425s - loss: 0.5502 - acc: 0.6906 - val_loss: 0.4917 - val_acc: 0.7200\n",
      "Epoch 86/100\n",
      "10/10 [==============================] - 398s - loss: 0.5375 - acc: 0.7357 - val_loss: 0.4189 - val_acc: 0.7400\n",
      "Epoch 87/100\n",
      "10/10 [==============================] - 399s - loss: 0.5035 - acc: 0.7453 - val_loss: 0.4124 - val_acc: 0.7400\n",
      "Epoch 88/100\n",
      "10/10 [==============================] - 426s - loss: 0.5013 - acc: 0.7625 - val_loss: 0.3935 - val_acc: 0.7600\n",
      "Epoch 89/100\n",
      "10/10 [==============================] - 398s - loss: 0.5578 - acc: 0.7201 - val_loss: 0.4090 - val_acc: 0.7800\n",
      "Epoch 90/100\n",
      "10/10 [==============================] - 399s - loss: 0.5158 - acc: 0.7515 - val_loss: 0.5960 - val_acc: 0.7000\n",
      "Epoch 91/100\n",
      "10/10 [==============================] - 426s - loss: 0.5615 - acc: 0.7094 - val_loss: 0.5031 - val_acc: 0.8000\n",
      "Epoch 92/100\n",
      "10/10 [==============================] - 399s - loss: 0.5271 - acc: 0.7265 - val_loss: 0.4033 - val_acc: 0.8000\n",
      "Epoch 93/100\n",
      "10/10 [==============================] - 399s - loss: 0.4955 - acc: 0.7547 - val_loss: 0.4277 - val_acc: 0.8200\n",
      "Epoch 94/100\n",
      "10/10 [==============================] - 425s - loss: 0.4995 - acc: 0.7719 - val_loss: 0.4886 - val_acc: 0.7600\n",
      "Epoch 95/100\n",
      "10/10 [==============================] - 398s - loss: 0.5314 - acc: 0.7547 - val_loss: 0.4742 - val_acc: 0.8000\n",
      "Epoch 96/100\n",
      "10/10 [==============================] - 399s - loss: 0.4904 - acc: 0.7516 - val_loss: 0.4194 - val_acc: 0.7800\n",
      "Epoch 97/100\n",
      "10/10 [==============================] - 426s - loss: 0.4791 - acc: 0.7469 - val_loss: 0.4401 - val_acc: 0.7800\n",
      "Epoch 98/100\n",
      "10/10 [==============================] - 397s - loss: 0.5453 - acc: 0.7201 - val_loss: 0.4920 - val_acc: 0.7600\n",
      "Epoch 99/100\n",
      "10/10 [==============================] - 399s - loss: 0.5102 - acc: 0.7547 - val_loss: 0.4445 - val_acc: 0.7600\n",
      "Epoch 100/100\n",
      "10/10 [==============================] - 425s - loss: 0.4723 - acc: 0.7531 - val_loss: 0.4775 - val_acc: 0.7600\n"
     ]
    }
   ],
   "source": [
    "hist = model_final.fit_generator(\n",
    "    datagen.flow(train_xs, train_ys, batch_size=training_batch_size), \n",
    "    validation_data=datagen.flow(test_xs, test_ys, batch_size=validation_batch_size),\n",
    "    validation_steps=validation_steps_per_epoch,\n",
    "    steps_per_epoch=training_steps_per_epoch, \n",
    "    epochs=epochs,\n",
    "    callbacks = [checkpoint, tb_callback]\n",
    ")"
   ]
  },
  {
   "cell_type": "code",
   "execution_count": 20,
   "metadata": {},
   "outputs": [
    {
     "data": {
      "image/png": "[encoded data removed]",
      "text/plain": [
       "<matplotlib.figure.Figure at 0x15e667cd0>"
      ]
     },
     "metadata": {},
     "output_type": "display_data"
    },
    {
     "data": {
      "image/png": "[encoded data removed]",
      "text/plain": [
       "<matplotlib.figure.Figure at 0x15dfbf350>"
      ]
     },
     "metadata": {},
     "output_type": "display_data"
    }
   ],
   "source": [
    "# summarize history for accuracy\n",
    "plt.plot(hist.history['acc'])\n",
    "plt.plot(hist.history['val_acc'])\n",
    "plt.title('model accuracy')\n",
    "plt.ylabel('accuracy')\n",
    "plt.xlabel('epoch')\n",
    "plt.legend(['train', 'test'], loc='upper left')\n",
    "plt.show()\n",
    "# summarize history for loss\n",
    "plt.plot(hist.history['loss'])\n",
    "plt.plot(hist.history['val_loss'])\n",
    "plt.title('model loss')\n",
    "plt.ylabel('loss')\n",
    "plt.xlabel('epoch')\n",
    "plt.legend(['train', 'test'], loc='upper left')\n",
    "plt.show()\n"
   ]
  },
  {
   "cell_type": "code",
   "execution_count": 14,
   "metadata": {
    "collapsed": true
   },
   "outputs": [],
   "source": [
    "model_final.save('model_toni.h5')"
   ]
  },
  {
   "cell_type": "code",
   "execution_count": null,
   "metadata": {
    "collapsed": true
   },
   "outputs": [],
   "source": []
  },
  {
   "cell_type": "code",
   "execution_count": 15,
   "metadata": {},
   "outputs": [
    {
     "data": {
      "text/plain": [
       "(402, 3)"
      ]
     },
     "execution_count": 15,
     "metadata": {},
     "output_type": "execute_result"
    }
   ],
   "source": [
    "df[df.toni_y.notnull()].shape"
   ]
  },
  {
   "cell_type": "code",
   "execution_count": null,
   "metadata": {
    "collapsed": true
   },
   "outputs": [],
   "source": []
  }
 ],
 "metadata": {
  "kernelspec": {
   "display_name": "Python 2",
   "language": "python",
   "name": "python2"
  },
  "language_info": {
   "codemirror_mode": {
    "name": "ipython",
    "version": 2
   },
   "file_extension": ".py",
   "mimetype": "text/x-python",
   "name": "python",
   "nbconvert_exporter": "python",
   "pygments_lexer": "ipython2",
   "version": "2.7.13"
  }
 },
 "nbformat": 4,
 "nbformat_minor": 1
}

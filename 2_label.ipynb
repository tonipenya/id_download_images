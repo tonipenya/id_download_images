{
 "cells": [
  {
   "cell_type": "code",
   "execution_count": 1,
   "metadata": {
    "collapsed": false,
    "deletable": true,
    "editable": true
   },
   "outputs": [
    {
     "name": "stderr",
     "output_type": "stream",
     "text": [
      "Using TensorFlow backend.\n"
     ]
    }
   ],
   "source": [
    "%matplotlib inline\n",
    "import numpy as np\n",
    "import pandas as pd\n",
    "import ipywidgets as widgets\n",
    "from PIL import Image\n",
    "from IPython.display import display\n",
    "from IPython.display import clear_output\n",
    "from extras import *"
   ]
  },
  {
   "cell_type": "markdown",
   "metadata": {
    "deletable": true,
    "editable": true
   },
   "source": [
    "## UI"
   ]
  },
  {
   "cell_type": "code",
   "execution_count": 95,
   "metadata": {
    "collapsed": false,
    "deletable": true,
    "editable": true
   },
   "outputs": [],
   "source": [
    "class Labeler():\n",
    "    def __init__(self, imgs_array, page_size=3):\n",
    "        self.imgs_array = imgs_array\n",
    "        self.page_size  = page_size\n",
    "        \n",
    "        self.possitives = set([])\n",
    "        self.negatives = set([])\n",
    "        self.current_page_widget = None\n",
    "        self.possitives_widget = widgets.IntText(description='Yays:', value=0)\n",
    "        self.negatives_widget = widgets.IntText(description='Nays:', value=0)\n",
    "        self.get_vote_widget_row()\n",
    "        self.widget = widgets.Widget()\n",
    "        \n",
    "        \n",
    "    def show(self):\n",
    "        self.widget.close()\n",
    "        next_button = widgets.Button(description='More!', button_style='info')\n",
    "        next_button.on_click(self.next_page)\n",
    "        self.widget = widgets.VBox([\n",
    "            self.get_vote_widget_row(),\n",
    "            next_button,\n",
    "            widgets.HBox([self.possitives_widget, self.negatives_widget])\n",
    "        ])\n",
    "        display(self.widget)\n",
    "        \n",
    "    def next_page(self, btn):\n",
    "        self.show()\n",
    "    \n",
    "    def get_image_widget(self, img_array, width='340px'):\n",
    "        wimg = widgets.Image(\n",
    "            value=jpeg_bytes_from_nparray(img_array),\n",
    "            width=width,\n",
    "        )\n",
    "\n",
    "        return wimg\n",
    "    \n",
    "    def possitive_clicked(self, btn):\n",
    "        if btn.img_id in self.negatives:\n",
    "            self.negatives.remove(btn.img_id)\n",
    "        self.possitives.add(btn.img_id)\n",
    "        self.update_possitive_negative_count()\n",
    "        \n",
    "    def negative_clicked(self, btn):\n",
    "        if btn.img_id in self.possitives:\n",
    "            self.possitives.remove(btn.img_id)\n",
    "        self.negatives.add(btn.img_id)\n",
    "        self.update_possitive_negative_count()\n",
    "        \n",
    "    def update_possitive_negative_count(self):\n",
    "        self.possitives_widget.value = len(self.possitives)\n",
    "        self.negatives_widget.value = len(self.negatives)\n",
    "        \n",
    "        \n",
    "    def get_vote_widget(self, img_array, img_id, width):\n",
    "        wimg = self.get_image_widget(img_array, width)\n",
    "        btn_yes = widgets.Button(\n",
    "            description=':)',\n",
    "            disabled=False,\n",
    "            button_style='success',\n",
    "            tooltip=':)'\n",
    "        )\n",
    "        btn_yes.img_id = img_id    \n",
    "        btn_yes.on_click(self.possitive_clicked)\n",
    "        \n",
    "        btn_no = widgets.Button(\n",
    "            description=':(',\n",
    "            disabled=False,\n",
    "            button_style='danger',\n",
    "            tooltip=':('\n",
    "        )\n",
    "        btn_no.img_id = img_id\n",
    "        btn_no.on_click(self.negative_clicked)\n",
    "\n",
    "        return widgets.VBox([ \n",
    "            wimg, \n",
    "            widgets.HBox([\n",
    "                    btn_yes, btn_no\n",
    "            ], layout=widgets.Layout(justify_content='space-around'))\n",
    "        ], layout=widgets.Layout(width=width, padding='10px 0px 10px 0px', background='#0f0', justify_content='flex-end'))\n",
    "\n",
    "    def get_vote_widget_row(self):\n",
    "#         indexes = np.random.randint(self.imgs_array.size, size=self.page_size)\n",
    "        n_samples = self.imgs_array.size\n",
    "        labeled_indexes = np.concatenate( [ list(self.possitives), list(self.negatives)] )\n",
    "        unlabeled_indexes = np.setdiff1d(np.arange(n_samples), labeled_indexes)\n",
    "        indexes = np.random.choice(unlabeled_indexes, self.page_size, replace=False)\n",
    "        \n",
    "        return widgets.Box(\n",
    "            [self.get_vote_widget(self.imgs_array[i], i, '300px') for i in indexes], \n",
    "            layout=widgets.Layout(display='flex', flex_flow='row wrap', justify_content='space-around', align_items='flex-end')\n",
    "        )"
   ]
  },
  {
   "cell_type": "markdown",
   "metadata": {
    "deletable": true,
    "editable": true
   },
   "source": [
    "# Go!"
   ]
  },
  {
   "cell_type": "markdown",
   "metadata": {},
   "source": [
    "### In case of relabeling"
   ]
  },
  {
   "cell_type": "code",
   "execution_count": 84,
   "metadata": {
    "collapsed": true,
    "deletable": true,
    "editable": true
   },
   "outputs": [],
   "source": [
    "# df = pd.read_pickle('labeled_data.pkl')\n",
    "# pos_idx = np.where(df.toni_y == 1)\n",
    "# neg_idx = np.where(df.toni_y == 0)\n",
    "# lab = Labeler(df.original.as_matrix(), page_size=9)\n",
    "# lab.possitives = set(pos_idx[0])\n",
    "# lab.negatives = set(neg_idx[0])\n",
    "# lab.show()"
   ]
  },
  {
   "cell_type": "markdown",
   "metadata": {},
   "source": [
    "### Otherwise"
   ]
  },
  {
   "cell_type": "code",
   "execution_count": 3,
   "metadata": {
    "collapsed": false,
    "deletable": true,
    "editable": true
   },
   "outputs": [],
   "source": [
    "df = pd.read_pickle('raw_data.pkl')"
   ]
  },
  {
   "cell_type": "code",
   "execution_count": null,
   "metadata": {
    "collapsed": false,
    "deletable": true,
    "editable": true
   },
   "outputs": [],
   "source": [
    "lab = Labeler(df.original.as_matrix(), page_size=9)\n",
    "lab.show()"
   ]
  },
  {
   "cell_type": "markdown",
   "metadata": {
    "deletable": true,
    "editable": true
   },
   "source": [
    "## Store labels"
   ]
  },
  {
   "cell_type": "code",
   "execution_count": 101,
   "metadata": {
    "collapsed": false,
    "deletable": true,
    "editable": true
   },
   "outputs": [],
   "source": [
    "df['toni_y'] = None\n",
    "df.toni_y.iloc[list(lab.possitives)] = 1.0\n",
    "df.toni_y.iloc[list(lab.negatives)] = 0.0"
   ]
  },
  {
   "cell_type": "markdown",
   "metadata": {
    "deletable": true,
    "editable": true
   },
   "source": [
    "## Save dataframe"
   ]
  },
  {
   "cell_type": "code",
   "execution_count": 102,
   "metadata": {
    "collapsed": true,
    "deletable": true,
    "editable": true
   },
   "outputs": [],
   "source": [
    "df.to_pickle('labeled_data.pkl')"
   ]
  },
  {
   "cell_type": "code",
   "execution_count": null,
   "metadata": {
    "collapsed": true,
    "deletable": true,
    "editable": true
   },
   "outputs": [],
   "source": []
  }
 ],
 "metadata": {
  "kernelspec": {
   "display_name": "Python 2",
   "language": "python",
   "name": "python2"
  },
  "language_info": {
   "codemirror_mode": {
    "name": "ipython",
    "version": 2
   },
   "file_extension": ".py",
   "mimetype": "text/x-python",
   "name": "python",
   "nbconvert_exporter": "python",
   "pygments_lexer": "ipython2",
   "version": "2.7.13"
  }
 },
 "nbformat": 4,
 "nbformat_minor": 2
}
